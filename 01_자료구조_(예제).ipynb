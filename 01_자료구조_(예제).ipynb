{
  "nbformat": 4,
  "nbformat_minor": 0,
  "metadata": {
    "colab": {
      "provenance": [],
      "authorship_tag": "ABX9TyM185SNZbQqTAfLH4qSGBcH",
      "include_colab_link": true
    },
    "kernelspec": {
      "name": "python3",
      "display_name": "Python 3"
    },
    "language_info": {
      "name": "python"
    }
  },
  "cells": [
    {
      "cell_type": "markdown",
      "metadata": {
        "id": "view-in-github",
        "colab_type": "text"
      },
      "source": [
        "<a href=\"https://colab.research.google.com/github/happy-lark/codingstudy/blob/main/01_%EC%9E%90%EB%A3%8C%EA%B5%AC%EC%A1%B0_(%EC%98%88%EC%A0%9C).ipynb\" target=\"_parent\"><img src=\"https://colab.research.google.com/assets/colab-badge.svg\" alt=\"Open In Colab\"/></a>"
      ]
    },
    {
      "cell_type": "code",
      "execution_count": null,
      "metadata": {
        "colab": {
          "base_uri": "https://localhost:8080/"
        },
        "id": "jERpys0CXa0-",
        "outputId": "a50a789b-f801-4728-c581-57a563686785"
      },
      "outputs": [
        {
          "output_type": "stream",
          "name": "stdout",
          "text": [
            "7 3\n",
            "<3,6,2,7,5,1,4>\n"
          ]
        }
      ],
      "source": [
        "#요세푸스 문제: pg 26\n",
        "\n",
        "N, K= map(int,input().split())\n",
        "peo=[i for i in range(1,N+1)]\n",
        "pt=0 #current position/index in peo\n",
        "ans=[] #답\n",
        "\n",
        "for i in range (N):\n",
        "  pt+=K-1\n",
        "  pt%=len(peo)\n",
        "  ans.append(peo.pop(pt))\n",
        "\n",
        "print(f\"<{','.join(map(str, ans))}>\")"
      ]
    },
    {
      "cell_type": "code",
      "source": [
        "#괄호문제 (VPS): pg29\n",
        "for i in range(int(input())):\n",
        "  stk=[]\n",
        "  ans='yes'\n",
        "  for c in input():\n",
        "    if c=='(':\n",
        "      stk.append(c)\n",
        "    else:\n",
        "      if len(stk)>0:\n",
        "        stk.pop()\n",
        "      else:\n",
        "        ans='no'\n",
        "\n",
        "  if len(stk)>0:\n",
        "    ans='no'\n",
        "  print(ans)"
      ],
      "metadata": {
        "colab": {
          "base_uri": "https://localhost:8080/"
        },
        "id": "J-o2MGUnYOhi",
        "outputId": "376592d6-af22-4084-9e5a-477cbe32410c"
      },
      "execution_count": null,
      "outputs": [
        {
          "output_type": "stream",
          "name": "stdout",
          "text": [
            "3\n",
            "()\n",
            "yes\n",
            "((\n",
            "no\n",
            "))\n",
            "no\n"
          ]
        }
      ]
    },
    {
      "cell_type": "code",
      "source": [
        "#카드2: pg33\n",
        "#덱 (deque) 사용\n",
        "from collections import deque\n",
        "\n",
        "dq=deque()\n",
        "for i in range(1, int(input())+1):\n",
        "  dq.append(i)\n",
        "\n",
        "while len(dq)>1:\n",
        "  dq.popleft()\n",
        "  dq.append(dq.popleft())\n",
        "\n",
        "print(dq.pop())"
      ],
      "metadata": {
        "id": "uI3_NcbUdwDe",
        "colab": {
          "base_uri": "https://localhost:8080/"
        },
        "outputId": "06285239-9463-42ee-b5f5-7c1aed425774"
      },
      "execution_count": null,
      "outputs": [
        {
          "output_type": "stream",
          "name": "stdout",
          "text": [
            "6\n",
            "4\n"
          ]
        }
      ]
    },
    {
      "cell_type": "code",
      "source": [
        "#베스트셀러: pg40\n",
        "#map 활용\n",
        "\n",
        "books=dict()\n",
        "\n",
        "for i in range(int(input())):\n",
        "  name=input()\n",
        "  if name in books:\n",
        "    books[name]+=1\n",
        "  else:\n",
        "    books[name]=1\n",
        "\n",
        "max_val=max(books.values()) #가장 많이 입력된 책 찾기 (key with the biggest value)\n",
        "\n",
        "#가장 많이 팔린 책이 중복될 경우, 즉 팔린 횟수가 중복될 경우를 위함\n",
        "arr=[] #가장 많이 팔린 책 리스트\n",
        "for k, v in books.items():\n",
        "  if v == max_val:\n",
        "    arr.append(k)\n",
        "\n",
        "arr.sort() #오름차순 정렬\n",
        "print(arr[0])"
      ],
      "metadata": {
        "id": "bCUZFUvEqTT0"
      },
      "execution_count": null,
      "outputs": []
    },
    {
      "cell_type": "code",
      "source": [
        "#탐고: 혼자 짜본 코드\n",
        "#베스트셀러: pg40\n",
        "#map 활용\n",
        "\n",
        "books=dict()\n",
        "\n",
        "for i in range(int(input())):\n",
        "  name=input()\n",
        "  if name in books:\n",
        "    books[name]+=1\n",
        "  else:\n",
        "    books[name]=1\n",
        "\n",
        "sorted_books=dict(sorted(books.items(), key=lambda item: item[1], reverse=True))\n",
        "\n",
        "first_key, *_ = sorted_books\n",
        "print(first_key)"
      ],
      "metadata": {
        "id": "18HBQmjAqbAc"
      },
      "execution_count": null,
      "outputs": []
    }
  ]
}